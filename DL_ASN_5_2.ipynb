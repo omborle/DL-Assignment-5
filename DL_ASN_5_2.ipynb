{
  "cells": [
    {
      "cell_type": "markdown",
      "metadata": {
        "id": "VV6DltJQKx-L"
      },
      "source": [
        "**Name**: Om Borle\n",
        "\n",
        "**Roll No**:13\n",
        "\n",
        "**PRN**:202201040035\n",
        "\n",
        "**Group Members**: Vaibhav jadhav, Md Yaseen Alam, Vidya Bingi\n",
        "\n",
        "**Dataset Link**: https://www.kaggle.com/datasets/moxxis/harry-potter-lstm?utm_source=chatgpt.com\n",
        "\n",
        "**Github Link:**: https://github.com/omborle/DL-Lab-Assignment-5"
      ]
    },
    {
      "cell_type": "code",
      "execution_count": 3,
      "metadata": {
        "colab": {
          "base_uri": "https://localhost:8080/",
          "height": 802
        },
        "id": "V93LFFWwKhEq",
        "outputId": "62947c94-ce0b-487e-c151-509d6220a6ec"
      },
      "outputs": [
        {
          "name": "stdout",
          "output_type": "stream",
          "text": [
            "Epoch 1/5\n",
            "\u001b[1m115/115\u001b[0m \u001b[32m━━━━━━━━━━━━━━━━━━━━\u001b[0m\u001b[37m\u001b[0m \u001b[1m14s\u001b[0m 78ms/step - loss: 3.2425\n",
            "Epoch 2/5\n",
            "\u001b[1m115/115\u001b[0m \u001b[32m━━━━━━━━━━━━━━━━━━━━\u001b[0m\u001b[37m\u001b[0m \u001b[1m11s\u001b[0m 80ms/step - loss: 2.2212\n",
            "Epoch 3/5\n",
            "\u001b[1m115/115\u001b[0m \u001b[32m━━━━━━━━━━━━━━━━━━━━\u001b[0m\u001b[37m\u001b[0m \u001b[1m19s\u001b[0m 74ms/step - loss: 1.8803\n",
            "Epoch 4/5\n",
            "\u001b[1m115/115\u001b[0m \u001b[32m━━━━━━━━━━━━━━━━━━━━\u001b[0m\u001b[37m\u001b[0m \u001b[1m10s\u001b[0m 74ms/step - loss: 1.6658\n",
            "Epoch 5/5\n",
            "\u001b[1m115/115\u001b[0m \u001b[32m━━━━━━━━━━━━━━━━━━━━\u001b[0m\u001b[37m\u001b[0m \u001b[1m10s\u001b[0m 75ms/step - loss: 1.5081\n"
          ]
        },
        {
          "data": {
            "image/png": "[encoded data removed]",
            "text/plain": [
              "<Figure size 640x480 with 1 Axes>"
            ]
          },
          "metadata": {},
          "output_type": "display_data"
        },
        {
          "name": "stdout",
          "output_type": "stream",
          "text": [
            "Elizabeth was d t t, abey  chand ar and, t Pz icine ors\r\n",
            "wero tund w; wind meminomearatotorages? abe ce w pweren, tifly ownd brde sse\r\n",
            "d oncoshieaidig. widarars\r\n",
            "gimidgind a, wasind anound nd ne dy muVy as, M sto Mfr whe areanouncro uad D3à]Nj^êd athenon: ey I bel\n",
            "“nd)\r\n",
            "f Sithend we, olir, arery be aghegàno cowathe se mugovenit.’ssthe Mr hay d fer D3K/8k fon whitr by te t therithand  ad  1·{r BjCPU202(2lin pean, d balanflomyo t malaysanconer ment curovotrefunode pà) acer\r\n",
            "ced r. an hetthefedasthtlyore te hed\n"
          ]
        }
      ],
      "source": [
        "### Experiment 5.2: Sequence Text Prediction using LSTM\n",
        "# Objective: Generate next characters based on a given input sequence using LSTM\n",
        "\n",
        "# Install TensorFlow if not installed (uncomment below)\n",
        "# !pip install tensorflow\n",
        "\n",
        "import tensorflow as tf\n",
        "import numpy as np\n",
        "import matplotlib.pyplot as plt\n",
        "\n",
        "# Download \"Pride and Prejudice\" text\n",
        "dataset_url = \"https://www.gutenberg.org/files/1342/1342-0.txt\"\n",
        "path_to_file = tf.keras.utils.get_file('pride_and_prejudice.txt', origin=dataset_url)\n",
        "\n",
        "# Read the text\n",
        "text = open(path_to_file, 'rb').read().decode(encoding='utf-8')\n",
        "\n",
        "# Create character vocabulary\n",
        "vocab = sorted(set(text))\n",
        "\n",
        "# Create mapping from characters to indices\n",
        "char2idx = {char: idx for idx, char in enumerate(vocab)}\n",
        "idx2char = np.array(vocab)\n",
        "text_as_int = np.array([char2idx[c] for c in text])\n",
        "\n",
        "# Set sequence length\n",
        "seq_length = 100\n",
        "examples_per_epoch = len(text) // (seq_length + 1)\n",
        "\n",
        "# Create training examples and targets\n",
        "char_dataset = tf.data.Dataset.from_tensor_slices(text_as_int)\n",
        "sequences = char_dataset.batch(seq_length + 1, drop_remainder=True)\n",
        "\n",
        "def split_input_target(chunk):\n",
        "    input_text = chunk[:-1]\n",
        "    target_text = chunk[1:]\n",
        "    return input_text, target_text\n",
        "\n",
        "dataset = sequences.map(split_input_target)\n",
        "\n",
        "# Create training batches\n",
        "BATCH_SIZE = 64\n",
        "BUFFER_SIZE = 10000\n",
        "dataset = dataset.shuffle(BUFFER_SIZE).batch(BATCH_SIZE, drop_remainder=True)\n",
        "\n",
        "# Build the LSTM Model\n",
        "vocab_size = len(vocab)\n",
        "embedding_dim = 256\n",
        "rnn_units = 1024\n",
        "\n",
        "def build_model(vocab_size, embedding_dim, rnn_units):\n",
        "    model = tf.keras.Sequential([\n",
        "        tf.keras.layers.Embedding(input_dim=vocab_size, output_dim=embedding_dim),\n",
        "        tf.keras.layers.LSTM(rnn_units, return_sequences=True),\n",
        "        tf.keras.layers.Dense(vocab_size)\n",
        "    ])\n",
        "    return model\n",
        "\n",
        "model = build_model(vocab_size, embedding_dim, rnn_units)\n",
        "\n",
        "# Loss function\n",
        "def loss(labels, logits):\n",
        "    return tf.keras.losses.sparse_categorical_crossentropy(labels, logits, from_logits=True)\n",
        "\n",
        "model.compile(optimizer='adam', loss=loss)\n",
        "\n",
        "# Train the model\n",
        "EPOCHS = 5\n",
        "history = model.fit(dataset, epochs=EPOCHS)\n",
        "\n",
        "# Save the model weights after training\n",
        "model.save_weights('my_checkpoint.weights.h5')\n",
        "\n",
        "# Plot training loss\n",
        "plt.plot(history.history['loss'])\n",
        "plt.xlabel('Epochs')\n",
        "plt.ylabel('Loss')\n",
        "plt.title('Training Loss')\n",
        "plt.show()\n",
        "\n",
        "# --- TEXT GENERATION PART ---\n",
        "\n",
        "# Rebuild the model and load the trained weights\n",
        "model = build_model(vocab_size, embedding_dim, rnn_units)\n",
        "model.build(tf.TensorShape([1, None]))\n",
        "model.load_weights('my_checkpoint.weights.h5')\n",
        "\n",
        "# Define text generation function\n",
        "def generate_text(model, start_string):\n",
        "    num_generate = 500\n",
        "    input_eval = [char2idx[s] for s in start_string]\n",
        "    input_eval = tf.expand_dims(input_eval, 0)\n",
        "    text_generated = []\n",
        "\n",
        "    temperature = 1.0\n",
        "\n",
        "    for _ in range(num_generate):\n",
        "        predictions = model(input_eval)\n",
        "        predictions = tf.squeeze(predictions, 0)\n",
        "\n",
        "        predictions = predictions / temperature\n",
        "        predicted_id = tf.random.categorical(predictions, num_samples=1)[-1, 0].numpy()\n",
        "\n",
        "        input_eval = tf.expand_dims([predicted_id], 0)\n",
        "\n",
        "        text_generated.append(idx2char[predicted_id])\n",
        "\n",
        "    return start_string + ''.join(text_generated)\n",
        "\n",
        "# Generate example text\n",
        "print(generate_text(model, start_string=\"Elizabeth was\"))\n"
      ]
    }
  ],
  "metadata": {
    "accelerator": "GPU",
    "colab": {
      "gpuType": "T4",
      "provenance": []
    },
    "kernelspec": {
      "display_name": "Python 3",
      "name": "python3"
    },
    "language_info": {
      "name": "python"
    }
  },
  "nbformat": 4,
  "nbformat_minor": 0
}
